{
 "cells": [
  {
   "cell_type": "markdown",
   "metadata": {},
   "source": [
    "# CS231n 学习笔记"
   ]
  },
  {
   "cell_type": "markdown",
   "metadata": {},
   "source": [
    "## KNN\n",
    "**1. boardcasting**  \n",
    "**2. shape**  \n",
    "**3. vstack hstack**\n",
    "\n",
    "\n",
    "**1.boardcasting & 2.shape**  \n",
    "numpy中的广播规则为两个矩阵的维度从后往前看，如果相同或者其中一个维度为1，则两个矩阵即刻实现广播。  \n",
    "如矩阵a.shape = (2, 2, 3)，矩阵b.shape = (2, 2, 1)，则这两个矩阵的运算可以boardcast；\n",
    " ```\n",
    "a = np.random.rand(2,2,3)\n",
    "b = np.random.rand(2,2,1)\n",
    "\n",
    "print(a+b)\n",
    " ```\n",
    "\n",
    "如果两个矩阵不符合上述原则，直接运算将无法进行boardcast，程序会报错。如果非要对两个不符合boardcast  \n",
    "的矩阵使用boardcast进行运算，我的想法是对其中一个矩阵增加维度，并让那个维度为1；  \n",
    "如：\n",
    "\n",
    "```\n",
    "a = np.random.rand(500,3072)\n",
    "# 对a矩阵reshape，增加一个维度与c矩阵的5000对应\n",
    "b = a.reshape(500, 1, -1)\n",
    "c = np.random.rand(5000,3072)\n",
    "# 这样b，c矩阵在运算时就符合boardcast规则\n",
    "r1 = b-c\n",
    "```\n",
    "a.shape = (500,3072)  \n",
    "c.shape = (5000,3072)  \n",
    "从后往前看，最后一个维度相同，但第一个维度不同，这样无法进行boardcast  \n",
    "\n",
    "b.shape = (500, 1, 3072)  \n",
    "c.shape = (   5000,3072)  \n",
    "对a矩阵增加一个维度后的b矩阵，现在从后往前看，最后一个维度相同，倒数第二个维度中由于b矩阵为1，也是  \n",
    "符合boardcast原则，第一个维度中，c矩阵相当于缺失这个维度，所以也是符合boardcast原则，最终运算结  \n",
    "果的矩阵的shape = (500, 5000, 3072)\n",
    "\n",
    "**对于数据量较小的时候，这个方法确实可以利用boardcast这个便利的特性，然而当数据量相对增大时，这个  \n",
    "方法就会大量消耗内存，严重拖慢运算速度，其效率还远不如直接用循环**  \n",
    "在本项目中，我们需要计算的是X_test中每个图片与self.X_train中每个图片的L2距离，所以总数一共会有  \n",
    "500 $\\times$ 5000个距离值，也就是上面代码中r1的第一第二个维度的乘积。初始的想法就是像上面代码那样  \n",
    "计算X_test中每个图片与self.X_train中每个图片的L2距离值，得到的结果在reshape成(-1, 3072)，想法  \n",
    "很美好，但现实却并没有像想象中简单。这样的操作所花的时间远超想象，最后是在结果还没出来我就把程序中断  \n",
    "了，期间内存使用量非常高，电脑也无法正常流畅运行。。  \n",
    "附上一个sf的链接，大概描述了出现这种情况的原因：  \n",
    "[Why python broadcasting in the example below is slower than a simple loop?\n",
    "](https://stackoverflow.com/questions/49632993/why-python-broadcasting-in-the-example-below-is-slower-than-a-simple-loop)"
   ]
  },
  {
   "cell_type": "code",
   "execution_count": null,
   "metadata": {},
   "outputs": [],
   "source": []
  }
 ],
 "metadata": {
  "kernelspec": {
   "display_name": "tensorflow_venv",
   "language": "python",
   "name": "tensorflow_venv"
  },
  "language_info": {
   "codemirror_mode": {
    "name": "ipython",
    "version": 3
   },
   "file_extension": ".py",
   "mimetype": "text/x-python",
   "name": "python",
   "nbconvert_exporter": "python",
   "pygments_lexer": "ipython3",
   "version": "3.6.3"
  }
 },
 "nbformat": 4,
 "nbformat_minor": 2
}
